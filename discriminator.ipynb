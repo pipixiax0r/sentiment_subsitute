{
 "cells": [
  {
   "cell_type": "markdown",
   "metadata": {},
   "source": [
    "# Load Data"
   ]
  },
  {
   "cell_type": "code",
   "execution_count": 1,
   "metadata": {},
   "outputs": [],
   "source": [
    "%matplotlib inline"
   ]
  },
  {
   "cell_type": "code",
   "execution_count": 2,
   "metadata": {},
   "outputs": [],
   "source": [
    "import re\n",
    "import nltk\n",
    "import time\n",
    "import numpy as np\n",
    "import pandas as pd\n",
    "import seaborn as sns\n",
    "import matplotlib.pyplot as plt\n",
    "from nltk.stem import SnowballStemmer"
   ]
  },
  {
   "cell_type": "code",
   "execution_count": 3,
   "metadata": {},
   "outputs": [],
   "source": [
    "train_data = pd.read_csv('Train.csv', sep=',')\n",
    "test_data = pd.read_csv('Test.csv', sep=',')\n",
    "valid_data = pd.read_csv('Valid.csv', sep=',')"
   ]
  },
  {
   "cell_type": "markdown",
   "metadata": {},
   "source": [
    "# Preprocessing"
   ]
  },
  {
   "cell_type": "code",
   "execution_count": 4,
   "metadata": {},
   "outputs": [],
   "source": [
    "def split(data):\n",
    "    html_pat = re.compile('<.*?>')\n",
    "    punctuation_pat = re.compile('[\"?!#$%&\\'()*+,-./:;<=>@[\\\\]^_`{|}~ ]')\n",
    "    \n",
    "    sentences = []\n",
    "    \n",
    "    for i, text in enumerate(data['text']):\n",
    "        filtered_text = html_pat.sub('', text)\n",
    "        words = list(filter(lambda x:x!='', punctuation_pat.split(filtered_text)))\n",
    "        sentences.append(words)\n",
    "        \n",
    "    return sentences"
   ]
  },
  {
   "cell_type": "code",
   "execution_count": 5,
   "metadata": {},
   "outputs": [],
   "source": [
    "train = split(train_data)\n",
    "test = split(test_data)\n",
    "valid = split(valid_data)"
   ]
  },
  {
   "cell_type": "code",
   "execution_count": 6,
   "metadata": {},
   "outputs": [
    {
     "name": "stdout",
     "output_type": "stream",
     "text": [
      "['I', 'grew', 'up', 'b', '1965', 'watching', 'and', 'loving', 'the', 'Thunderbirds', 'All', 'my', 'mates', 'at', 'school', 'watched', 'We', 'played', 'Thunderbirds', 'before', 'school', 'during', 'lunch', 'and', 'after', 'school', 'We', 'all', 'wanted', 'to', 'be', 'Virgil', 'or', 'Scott', 'No', 'one', 'wanted', 'to', 'be', 'Alan', 'Counting', 'down', 'from', '5', 'became', 'an', 'art', 'form', 'I', 'took', 'my', 'children', 'to', 'see', 'the', 'movie', 'hoping', 'they', 'would', 'get', 'a', 'glimpse', 'of', 'what', 'I', 'loved', 'as', 'a', 'child', 'How', 'bitterly', 'disappointing', 'The', 'only', 'high', 'point', 'was', 'the', 'snappy', 'theme', 'tune', 'Not', 'that', 'it', 'could', 'compare', 'with', 'the', 'original', 'score', 'of', 'the', 'Thunderbirds', 'Thankfully', 'early', 'Saturday', 'mornings', 'one', 'television', 'channel', 'still', 'plays', 'reruns', 'of', 'the', 'series', 'Gerry', 'Anderson', 'and', 'his', 'wife', 'created', 'Jonatha', 'Frakes', 'should', 'hand', 'in', 'his', 'directors', 'chair', 'his', 'version', 'was', 'completely', 'hopeless', 'A', 'waste', 'of', 'film', 'Utter', 'rubbish', 'A', 'CGI', 'remake', 'may', 'be', 'acceptable', 'but', 'replacing', 'marionettes', 'with', 'Homo', 'sapiens', 'subsp', 'sapiens', 'was', 'a', 'huge', 'error', 'of', 'judgment']\n"
     ]
    }
   ],
   "source": [
    "print(train[0])"
   ]
  },
  {
   "cell_type": "code",
   "execution_count": 7,
   "metadata": {},
   "outputs": [],
   "source": [
    "def sentence_length(sentence):\n",
    "    return list(map(lambda x:len(x), sentence))"
   ]
  },
  {
   "cell_type": "code",
   "execution_count": 8,
   "metadata": {},
   "outputs": [
    {
     "data": {
      "text/plain": [
       "(0.0, 1000.0)"
      ]
     },
     "execution_count": 8,
     "metadata": {},
     "output_type": "execute_result"
    },
    {
     "data": {
      "image/png": "[encoded data removed]",
      "text/plain": [
       "<Figure size 1296x360 with 3 Axes>"
      ]
     },
     "metadata": {
      "needs_background": "light"
     },
     "output_type": "display_data"
    }
   ],
   "source": [
    "fig, axes = plt.subplots(1, 3, figsize=(18,5), sharex=True, sharey=True)\n",
    "data=pd.DataFrame(sentence_length(train), columns=['train'], )\n",
    "sns.histplot(data=data, x='train', ax=axes[0])\n",
    "\n",
    "data=pd.DataFrame(sentence_length(test), columns=['test'])\n",
    "sns.histplot(data=data, x='test', ax=axes[1])\n",
    "\n",
    "data=pd.DataFrame(sentence_length(valid), columns=['valid'])\n",
    "sns.histplot(data=data, x='valid', ax=axes[2])\n",
    "\n",
    "plt.subplots_adjust(wspace=0.05)\n",
    "plt.xlim(0,1000)"
   ]
  },
  {
   "cell_type": "code",
   "execution_count": 9,
   "metadata": {},
   "outputs": [],
   "source": [
    "def align(sentence, length):\n",
    "    if len(sentence) < length:\n",
    "        return sentence + ['<PAD>' for x in range(length - len(sentence))]\n",
    "    else:\n",
    "        return sentence[:length]"
   ]
  },
  {
   "cell_type": "code",
   "execution_count": 10,
   "metadata": {},
   "outputs": [],
   "source": [
    "train = list(map(lambda x: align(x, 250), train))\n",
    "test = list(map(lambda x: align(x, 250), test))\n",
    "valid = list(map(lambda x: align(x, 250), valid))"
   ]
  },
  {
   "cell_type": "code",
   "execution_count": 11,
   "metadata": {},
   "outputs": [],
   "source": [
    "stemmer = SnowballStemmer('english')\n",
    "\n",
    "def stemming(sentence, stemmer):\n",
    "    return [stemmer.stem(word) for word in sentence]\n",
    "\n",
    "train = list(map(lambda x:stemming(x, stemmer), train))\n",
    "test = list(map(lambda x:stemming(x, stemmer), test))\n",
    "valid = list(map(lambda x:stemming(x, stemmer), valid))"
   ]
  },
  {
   "cell_type": "code",
   "execution_count": 12,
   "metadata": {},
   "outputs": [],
   "source": [
    "def count_words(data):\n",
    "    word_count = {}\n",
    "    \n",
    "    for sentence in data:\n",
    "        for word in sentence:\n",
    "            if word not in word_count:\n",
    "                word_count[word] = 1\n",
    "            else:\n",
    "                word_count[word] += 1\n",
    "                \n",
    "    return word_count\n",
    "\n",
    "word_count = count_words(train+test+valid)\n",
    "word_count = sorted(word_count.items(), key=lambda x:x[1], reverse=True)\n",
    "\n",
    "uncommon_words = set(map(lambda x: x[0], filter(lambda x: x[1] <= 5, word_count)))"
   ]
  },
  {
   "cell_type": "code",
   "execution_count": 13,
   "metadata": {},
   "outputs": [
    {
     "name": "stdout",
     "output_type": "stream",
     "text": [
      "total words:66081, uncommon words:44457\n"
     ]
    }
   ],
   "source": [
    "print(\"total words:{}, uncommon words:{}\".format(len(word_count), len(uncommon_words)))"
   ]
  },
  {
   "cell_type": "code",
   "execution_count": 14,
   "metadata": {},
   "outputs": [],
   "source": [
    "def sub_uncommon_words(sentence, uncommon_words):\n",
    "    def sub_word(word):\n",
    "        if word in uncommon_words:\n",
    "            return '<UNK>'\n",
    "        else:\n",
    "            return word\n",
    "    return list(map(sub_word, sentence))\n",
    "\n",
    "train = list(map(lambda x:sub_uncommon_words(x, uncommon_words), train))\n",
    "test = list(map(lambda x:sub_uncommon_words(x, uncommon_words), test))\n",
    "valid = list(map(lambda x:sub_uncommon_words(x, uncommon_words), valid))"
   ]
  },
  {
   "cell_type": "markdown",
   "metadata": {},
   "source": [
    "# Embedding"
   ]
  },
  {
   "cell_type": "code",
   "execution_count": 15,
   "metadata": {},
   "outputs": [],
   "source": [
    "from gensim.models import Word2Vec"
   ]
  },
  {
   "cell_type": "code",
   "execution_count": 16,
   "metadata": {},
   "outputs": [],
   "source": [
    "class Embedding:\n",
    "    def __init__(self, sentences, word_vec_size):\n",
    "        self.sentences = sentences\n",
    "        self.word_vec_size = word_vec_size\n",
    "        \n",
    "        self.model = None\n",
    "        self.embedding_matrix = None\n",
    "        \n",
    "        self._word2idx = {}\n",
    "        \n",
    "    def word2idx(self, word):\n",
    "        if self.model is None:\n",
    "            raise NameError('No model, use mk_embedding first.')\n",
    "        return self._word2idx[word]\n",
    "    \n",
    "    def idx2word(self, i):\n",
    "        if self.model is None:\n",
    "            raise NameError('No model, use mk_embedding first.')\n",
    "        return self.model.wv.index2word[i]\n",
    "    \n",
    "    def mk_embedding(self, load_model_path=None, save_model_path=None):\n",
    "        if load_model_path is not None:\n",
    "            model = Word2Vec.load(load_model_path)\n",
    "        else:\n",
    "            print('Word2Vec training ...')\n",
    "            model = Word2Vec(self.sentences, size=self.word_vec_size, window=5, workers=12, iter=10, sg=1)\n",
    "            if save_model_path is not None:\n",
    "                model.save(save_model_path)\n",
    "            else:\n",
    "                model.save('embedding/{}_word2vec.model'.format(self.word_vec_size))\n",
    "        \n",
    "        self.model = model\n",
    "        self.embedding_matrix = model.wv.vectors\n",
    "        for i, word in enumerate(model.wv.index2word):\n",
    "            self._word2idx[word] = i\n",
    "            \n",
    "        print('Embedding OK.')"
   ]
  },
  {
   "cell_type": "code",
   "execution_count": 17,
   "metadata": {},
   "outputs": [
    {
     "name": "stdout",
     "output_type": "stream",
     "text": [
      "Word2Vec training ...\n",
      "Embedding OK.\n"
     ]
    }
   ],
   "source": [
    "embedding = Embedding(train+test+valid, 150)\n",
    "embedding.mk_embedding('embedding/150_word2vec.model')"
   ]
  },
  {
   "cell_type": "code",
   "execution_count": 18,
   "metadata": {},
   "outputs": [],
   "source": [
    "def word2idx(sentence):\n",
    "    return [embedding.word2idx(word) for word in sentence]\n",
    "\n",
    "train = list(map(word2idx, train))\n",
    "test = list(map(word2idx, test))\n",
    "valid = list(map(word2idx, valid))"
   ]
  },
  {
   "cell_type": "code",
   "execution_count": 19,
   "metadata": {},
   "outputs": [
    {
     "name": "stdout",
     "output_type": "stream",
     "text": [
      "[58, 8, 246, 10, 13, 9, 60, 292, 1054, 3, 1574, 207, 18, 2, 4984, 3, 51, 4069, 8, 70, 51, 236, 8, 14, 300, 11, 10, 13, 67, 817, 51, 4, 1, 566, 203, 4, 1, 87, 13, 15593, 342, 50, 1767, 61, 315, 509, 167, 160, 189, 3, 2, 1072, 1634, 793, 20, 5, 60, 378, 26, 114, 4, 10, 6, 5, 24, 276, 9, 4897, 4571, 12, 607, 70, 8, 266, 51, 311, 87, 8, 282, 26, 25, 91, 38, 270, 207, 1, 322, 6388, 92, 24, 184, 5, 165, 37, 25, 115, 1, 87, 13, 3, 37, 168, 7, 3241, 19, 1, 203, 527, 58, 1, 87, 81, 316, 136, 9, 19, 2, 647, 45, 21, 42, 612, 4897, 4571, 12, 607, 39, 1, 1314, 452, 32, 136, 623, 15, 43, 947, 3, 70, 1, 236, 8, 70, 1, 173, 154, 17, 2, 76, 2215, 4, 1, 87, 13, 3, 1, 509, 167, 46, 91, 1681, 35, 2, 26, 38, 779, 28, 18, 1, 418, 4, 2, 191, 57, 33, 1, 509, 4, 1031, 1, 151, 1295, 8887, 11, 76, 20, 1, 342, 9, 453, 6, 2, 458, 1492, 1, 727, 6, 101, 199, 755, 17, 7, 62, 33, 307, 289, 4, 15, 3729, 90, 1, 723, 843, 61, 80, 205, 1, 249, 47, 20, 3873, 5466, 7, 12, 26, 55, 50, 15, 3729, 289, 8, 5892, 229, 2, 723, 47, 298, 8, 282, 25, 20075, 335, 43, 1442, 5, 1, 304, 37, 756, 23, 115]\n"
     ]
    }
   ],
   "source": [
    "print(train[1])"
   ]
  },
  {
   "cell_type": "markdown",
   "metadata": {},
   "source": [
    "# NN"
   ]
  },
  {
   "cell_type": "code",
   "execution_count": 20,
   "metadata": {},
   "outputs": [],
   "source": [
    "import torch\n",
    "import torch.nn as nn"
   ]
  },
  {
   "cell_type": "code",
   "execution_count": 38,
   "metadata": {},
   "outputs": [],
   "source": [
    "class Classifer(nn.Module):\n",
    "    def __init__(self, embedding_matrix, hidden_size, seq_len, num_layers=1, fix_embedding=False):\n",
    "        super().__init__()\n",
    "        self.embedding = nn.Embedding(*embedding_matrix.shape)\n",
    "        self.embedding.weight = nn.Parameter(torch.tensor(embedding_matrix))\n",
    "        self.embedding.weight.requires_grad = True if fix_embedding is True else False\n",
    "        \n",
    "        self.rnn = nn.GRU(embedding_matrix.shape[1], hidden_size, num_layers,\n",
    "                          batch_first=True, bidirectional=True)\n",
    "        \n",
    "        self.query = nn.Parameter(torch.rand(1,1,hidden_size*2))\n",
    "        self.query.requires_grad = True\n",
    "        \n",
    "        self.fc = nn.Sequential(nn.Dropout(0.2),\n",
    "                               nn.Linear(hidden_size*2, hidden_size//2),\n",
    "                               nn.ReLU(),\n",
    "                               \n",
    "                               nn.Dropout(0.2),\n",
    "                               nn.Linear(hidden_size//2, hidden_size//8),\n",
    "                               nn.ReLU(),\n",
    "                               \n",
    "                               nn.Linear(hidden_size//8, 1),\n",
    "                               nn.Sigmoid())\n",
    "        \n",
    "    def forward(self, input):\n",
    "        # input.shape is (batch size, sequence len, vocab size)\n",
    "        \n",
    "        embedding_seq = self.embedding(input)\n",
    "        output, hidden = self.rnn(embedding_seq)\n",
    "        # outputs shape is (batch_size, sequence_len, hid_size * directions)\n",
    "        # hidden shape is (num_layers * directions, batch_size, hid_size)\n",
    "        \n",
    "        similarity = torch.exp(sum(output @ self.query, 2))\n",
    "        # similarity.shape is (batch_size, sequence_len)\n",
    "        \n",
    "        att = similarity / torch.sum(similarity, 1).\n",
    "        \n",
    "        \n",
    "        prediction = self.fc(torch.sum(output*torch.unsqueeze(att, 2)))\n",
    "\n",
    "        return prediction"
   ]
  },
  {
   "cell_type": "code",
   "execution_count": 61,
   "metadata": {},
   "outputs": [],
   "source": [
    "a = torch.tensor([[[1,2,3],[3,4,5],[4,5,6]],[[2,3,4],[3,4,5],[5,6,7]]])\n",
    "b = torch.tensor([1,2,3])"
   ]
  },
  {
   "cell_type": "code",
   "execution_count": 66,
   "metadata": {},
   "outputs": [],
   "source": [
    "a = torch.tensor([[2,3,4],[5,3,2]],dtype=torch.float)\n",
    "b = torch.tensor([2,3],dtype=torch.float)"
   ]
  },
  {
   "cell_type": "code",
   "execution_count": 63,
   "metadata": {},
   "outputs": [
    {
     "data": {
      "text/plain": [
       "torch.Size([2, 3, 3])"
      ]
     },
     "execution_count": 63,
     "metadata": {},
     "output_type": "execute_result"
    }
   ],
   "source": [
    "a.shape"
   ]
  },
  {
   "cell_type": "markdown",
   "metadata": {},
   "source": [
    "# Dataset"
   ]
  },
  {
   "cell_type": "code",
   "execution_count": 39,
   "metadata": {},
   "outputs": [],
   "source": [
    "from torch.utils.data import DataLoader, Dataset\n",
    "from sklearn.model_selection import train_test_split"
   ]
  },
  {
   "cell_type": "code",
   "execution_count": 40,
   "metadata": {},
   "outputs": [],
   "source": [
    "class ReviewDataset(Dataset):\n",
    "    def __init__(self, x, y):\n",
    "        self.x = x\n",
    "        self.y = y\n",
    "    \n",
    "    def __len__(self):\n",
    "        return len(self.x)\n",
    "    \n",
    "    def __getitem__(self, i):\n",
    "        return self.x[i], self.y[i]"
   ]
  },
  {
   "cell_type": "code",
   "execution_count": 41,
   "metadata": {},
   "outputs": [],
   "source": [
    "train_x = np.array(train)\n",
    "train_y = np.array(train_data['label'])\n",
    "\n",
    "val_x = np.array(valid)\n",
    "val_y = np.array(valid_data['label'])\n",
    "\n",
    "test_x = np.array(test)\n",
    "test_y = np.array(test_data['label'])"
   ]
  },
  {
   "cell_type": "code",
   "execution_count": 42,
   "metadata": {},
   "outputs": [],
   "source": [
    "train_set = DataLoader(ReviewDataset(train_x, train_y), batch_size=128)\n",
    "val_set = DataLoader(ReviewDataset(val_x, val_y), batch_size=128)"
   ]
  },
  {
   "cell_type": "markdown",
   "metadata": {},
   "source": [
    "# Training"
   ]
  },
  {
   "cell_type": "code",
   "execution_count": 48,
   "metadata": {},
   "outputs": [],
   "source": [
    "num_epoch = 20\n",
    "hidden_size = 64\n",
    "seq_len = 250\n",
    "num_words = len(embedding.model.wv.index2word)\n",
    "device = torch.device('cpu')"
   ]
  },
  {
   "cell_type": "code",
   "execution_count": 49,
   "metadata": {},
   "outputs": [
    {
     "name": "stdout",
     "output_type": "stream",
     "text": [
      "total parameters:3331223\n"
     ]
    }
   ],
   "source": [
    "model = Classifer(embedding.embedding_matrix, hidden_size, seq_len, fix_embedding=True)\n",
    "model.to(device)\n",
    "print('total parameters:{}'.format(sum(p.numel() for p in model.parameters())))"
   ]
  },
  {
   "cell_type": "code",
   "execution_count": 50,
   "metadata": {},
   "outputs": [],
   "source": [
    "optimizer = torch.optim.Adam(model.parameters(), lr=1e-3)\n",
    "calc_loss = nn.BCELoss()"
   ]
  },
  {
   "cell_type": "code",
   "execution_count": 51,
   "metadata": {},
   "outputs": [],
   "source": [
    "def calc_acc(pred, y):\n",
    "    pred = np.where(pred.detach().cpu().numpy() >= 0.5, 1, 0)\n",
    "    correct = np.sum(pred == y.detach().cpu().numpy())\n",
    "    return correct / y.shape[0]"
   ]
  },
  {
   "cell_type": "code",
   "execution_count": 52,
   "metadata": {},
   "outputs": [
    {
     "ename": "RuntimeError",
     "evalue": "The size of tensor a (250) must match the size of tensor b (128) at non-singleton dimension 1",
     "output_type": "error",
     "traceback": [
      "\u001b[0;31m---------------------------------------------------------------------------\u001b[0m",
      "\u001b[0;31mRuntimeError\u001b[0m                              Traceback (most recent call last)",
      "\u001b[0;32m<ipython-input-52-61ea527fbe74>\u001b[0m in \u001b[0;36m<module>\u001b[0;34m\u001b[0m\n\u001b[1;32m     11\u001b[0m         \u001b[0my\u001b[0m \u001b[0;34m=\u001b[0m \u001b[0mdata\u001b[0m\u001b[0;34m[\u001b[0m\u001b[0;36m1\u001b[0m\u001b[0;34m]\u001b[0m\u001b[0;34m.\u001b[0m\u001b[0mto\u001b[0m\u001b[0;34m(\u001b[0m\u001b[0mdtype\u001b[0m\u001b[0;34m=\u001b[0m\u001b[0mtorch\u001b[0m\u001b[0;34m.\u001b[0m\u001b[0mfloat\u001b[0m\u001b[0;34m,\u001b[0m \u001b[0mdevice\u001b[0m\u001b[0;34m=\u001b[0m\u001b[0mdevice\u001b[0m\u001b[0;34m)\u001b[0m\u001b[0;34m\u001b[0m\u001b[0;34m\u001b[0m\u001b[0m\n\u001b[1;32m     12\u001b[0m \u001b[0;34m\u001b[0m\u001b[0m\n\u001b[0;32m---> 13\u001b[0;31m         \u001b[0mpred\u001b[0m \u001b[0;34m=\u001b[0m \u001b[0mmodel\u001b[0m\u001b[0;34m(\u001b[0m\u001b[0mx\u001b[0m\u001b[0;34m)\u001b[0m\u001b[0;34m.\u001b[0m\u001b[0msqueeze\u001b[0m\u001b[0;34m(\u001b[0m\u001b[0;34m)\u001b[0m\u001b[0;34m\u001b[0m\u001b[0;34m\u001b[0m\u001b[0m\n\u001b[0m\u001b[1;32m     14\u001b[0m \u001b[0;34m\u001b[0m\u001b[0m\n\u001b[1;32m     15\u001b[0m         \u001b[0moptimizer\u001b[0m\u001b[0;34m.\u001b[0m\u001b[0mzero_grad\u001b[0m\u001b[0;34m(\u001b[0m\u001b[0;34m)\u001b[0m\u001b[0;34m\u001b[0m\u001b[0;34m\u001b[0m\u001b[0m\n",
      "\u001b[0;32m~/anaconda3/lib/python3.7/site-packages/torch/nn/modules/module.py\u001b[0m in \u001b[0;36m_call_impl\u001b[0;34m(self, *input, **kwargs)\u001b[0m\n\u001b[1;32m    720\u001b[0m             \u001b[0mresult\u001b[0m \u001b[0;34m=\u001b[0m \u001b[0mself\u001b[0m\u001b[0;34m.\u001b[0m\u001b[0m_slow_forward\u001b[0m\u001b[0;34m(\u001b[0m\u001b[0;34m*\u001b[0m\u001b[0minput\u001b[0m\u001b[0;34m,\u001b[0m \u001b[0;34m**\u001b[0m\u001b[0mkwargs\u001b[0m\u001b[0;34m)\u001b[0m\u001b[0;34m\u001b[0m\u001b[0;34m\u001b[0m\u001b[0m\n\u001b[1;32m    721\u001b[0m         \u001b[0;32melse\u001b[0m\u001b[0;34m:\u001b[0m\u001b[0;34m\u001b[0m\u001b[0;34m\u001b[0m\u001b[0m\n\u001b[0;32m--> 722\u001b[0;31m             \u001b[0mresult\u001b[0m \u001b[0;34m=\u001b[0m \u001b[0mself\u001b[0m\u001b[0;34m.\u001b[0m\u001b[0mforward\u001b[0m\u001b[0;34m(\u001b[0m\u001b[0;34m*\u001b[0m\u001b[0minput\u001b[0m\u001b[0;34m,\u001b[0m \u001b[0;34m**\u001b[0m\u001b[0mkwargs\u001b[0m\u001b[0;34m)\u001b[0m\u001b[0;34m\u001b[0m\u001b[0;34m\u001b[0m\u001b[0m\n\u001b[0m\u001b[1;32m    723\u001b[0m         for hook in itertools.chain(\n\u001b[1;32m    724\u001b[0m                 \u001b[0m_global_forward_hooks\u001b[0m\u001b[0;34m.\u001b[0m\u001b[0mvalues\u001b[0m\u001b[0;34m(\u001b[0m\u001b[0;34m)\u001b[0m\u001b[0;34m,\u001b[0m\u001b[0;34m\u001b[0m\u001b[0;34m\u001b[0m\u001b[0m\n",
      "\u001b[0;32m<ipython-input-38-8f5ebfebc5f0>\u001b[0m in \u001b[0;36mforward\u001b[0;34m(self, input)\u001b[0m\n\u001b[1;32m     30\u001b[0m         \u001b[0matt\u001b[0m \u001b[0;34m=\u001b[0m \u001b[0msimilarity\u001b[0m \u001b[0;34m/\u001b[0m \u001b[0mtorch\u001b[0m\u001b[0;34m.\u001b[0m\u001b[0munsqueeze\u001b[0m\u001b[0;34m(\u001b[0m\u001b[0mtorch\u001b[0m\u001b[0;34m.\u001b[0m\u001b[0msum\u001b[0m\u001b[0;34m(\u001b[0m\u001b[0msimilarity\u001b[0m\u001b[0;34m,\u001b[0m \u001b[0;36m1\u001b[0m\u001b[0;34m)\u001b[0m\u001b[0;34m,\u001b[0m \u001b[0;36m1\u001b[0m\u001b[0;34m)\u001b[0m\u001b[0;34m\u001b[0m\u001b[0;34m\u001b[0m\u001b[0m\n\u001b[1;32m     31\u001b[0m \u001b[0;34m\u001b[0m\u001b[0m\n\u001b[0;32m---> 32\u001b[0;31m         \u001b[0mprediction\u001b[0m \u001b[0;34m=\u001b[0m \u001b[0mself\u001b[0m\u001b[0;34m.\u001b[0m\u001b[0mfc\u001b[0m\u001b[0;34m(\u001b[0m\u001b[0mtorch\u001b[0m\u001b[0;34m.\u001b[0m\u001b[0msum\u001b[0m\u001b[0;34m(\u001b[0m\u001b[0moutput\u001b[0m\u001b[0;34m*\u001b[0m\u001b[0mtorch\u001b[0m\u001b[0;34m.\u001b[0m\u001b[0munsqueeze\u001b[0m\u001b[0;34m(\u001b[0m\u001b[0matt\u001b[0m\u001b[0;34m,\u001b[0m \u001b[0;36m2\u001b[0m\u001b[0;34m)\u001b[0m\u001b[0;34m)\u001b[0m\u001b[0;34m)\u001b[0m\u001b[0;34m\u001b[0m\u001b[0;34m\u001b[0m\u001b[0m\n\u001b[0m\u001b[1;32m     33\u001b[0m         \u001b[0;31m# outputs shape is (batch_size, sequence_len, hid_size * directions)\u001b[0m\u001b[0;34m\u001b[0m\u001b[0;34m\u001b[0m\u001b[0;34m\u001b[0m\u001b[0m\n\u001b[1;32m     34\u001b[0m         \u001b[0;31m# hidden shape is (num_layers * directions, batch_size, hid_size)\u001b[0m\u001b[0;34m\u001b[0m\u001b[0;34m\u001b[0m\u001b[0;34m\u001b[0m\u001b[0m\n",
      "\u001b[0;31mRuntimeError\u001b[0m: The size of tensor a (250) must match the size of tensor b (128) at non-singleton dimension 1"
     ]
    }
   ],
   "source": [
    "for epoch in range(num_epoch):\n",
    "    start_time = time.time()\n",
    "    train_loss = 0.0\n",
    "    train_acc = 0.0\n",
    "    val_loss = 0.0\n",
    "    val_acc = 0.0\n",
    "    \n",
    "    model.train()\n",
    "    for data in train_set:\n",
    "        x = data[0].to(dtype=torch.long, device=device)\n",
    "        y = data[1].to(dtype=torch.float, device=device)\n",
    "        \n",
    "        pred = model(x).squeeze()\n",
    "        \n",
    "        optimizer.zero_grad()\n",
    "        \n",
    "        batch_loss = calc_loss(pred, y)\n",
    "        batch_loss.backward()\n",
    "        optimizer.step()\n",
    "        \n",
    "        train_loss += batch_loss / len(train_set)\n",
    "        train_acc += calc_acc(pred, y) / len(train_set)\n",
    "    \n",
    "    model.eval()\n",
    "    with torch.no_grad():\n",
    "        for data in val_set:\n",
    "            x = data[0].to(dtype=torch.long, device=device)\n",
    "            y = data[1].to(dtype=torch.float, device=device)\n",
    "            \n",
    "            pred = model(x).squeeze()\n",
    "            \n",
    "            batch_loss = calc_loss(pred, y)\n",
    "            \n",
    "            val_loss += batch_loss / len(val_set)\n",
    "            val_acc += calc_acc(pred, y) / len(val_set)\n",
    "            \n",
    "    print('epoch:[{:02d}/{:02d}] time:{:2.2f}(sec) train_loss:{:2.5f} train_acc:{:2.5f} | val_loss:{:2.5f} val_acc:{:2.5f}'.format(epoch+1, num_epoch, time.time() - start_time, train_loss, train_acc, val_loss, val_acc)) "
   ]
  },
  {
   "cell_type": "code",
   "execution_count": null,
   "metadata": {},
   "outputs": [],
   "source": [
    "#hidden_size=32 fix_embedding=False | val_loss:0.24784 val_acc:0.89609\n",
    "#hidden_size=64 fix_embedding=True | val_loss:0.23570 val_acc:0.90605"
   ]
  },
  {
   "cell_type": "code",
   "execution_count": null,
   "metadata": {},
   "outputs": [],
   "source": []
  }
 ],
 "metadata": {
  "kernelspec": {
   "display_name": "Python 3",
   "language": "python",
   "name": "python3"
  },
  "language_info": {
   "codemirror_mode": {
    "name": "ipython",
    "version": 3
   },
   "file_extension": ".py",
   "mimetype": "text/x-python",
   "name": "python",
   "nbconvert_exporter": "python",
   "pygments_lexer": "ipython3",
   "version": "3.7.3"
  }
 },
 "nbformat": 4,
 "nbformat_minor": 4
}
